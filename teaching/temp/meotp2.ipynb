{
  "nbformat": 4,
  "nbformat_minor": 0,
  "metadata": {
    "colab": {
      "name": "TP2_MEO.ipynb",
      "version": "0.3.2",
      "provenance": [],
      "collapsed_sections": []
    },
    "kernelspec": {
      "name": "python3",
      "display_name": "Python 3"
    }
  },
  "cells": [
    {
      "metadata": {
        "id": "V0W_WkZ1D_hJ",
        "colab_type": "text"
      },
      "cell_type": "markdown",
      "source": [
        "# Partie 1"
      ]
    },
    {
      "metadata": {
        "id": "GJzXqY9KEtpP",
        "colab_type": "text"
      },
      "cell_type": "markdown",
      "source": [
        "## Les structures de contrôle\n",
        "\n",
        "Les structures de contrôle sont les groupes d’instructions qui déterminent l’ordre dans lequel les actions sont effectuées. En programmation moderne, il en existe seulement trois:\n",
        "\n",
        "* la séquence\n",
        "* la selection (voir partie 2)\n",
        "* la répétition (voir parties 3 et 4)\n",
        "\n",
        "**Séquence d’instructions** : une série d’instructions qui se suivent (chaînes de caractères, les tuples, les listes). Les instructions d’un programme s’exécutent les unes après les autres, dans l’ordre où elles ont été écrites à l’intérieur du script.\n",
        "\n",
        "Par exemple, dans la séquence d’instructions suivantes :\n",
        "\n",
        "a, b = 3, 7\n",
        "\n",
        "a = b\n",
        "\n",
        "b = a\n",
        "\n",
        "print(a, b)\n",
        "\n",
        "Vous obtiendrez un résultat contraire si vous intervertissez les 2eme et 3eme lignes.\n"
      ]
    },
    {
      "metadata": {
        "id": "KO2vIZ-3EJvy",
        "colab_type": "code",
        "colab": {}
      },
      "cell_type": "code",
      "source": [
        ""
      ],
      "execution_count": 0,
      "outputs": []
    },
    {
      "metadata": {
        "id": "bmhXs8ueFJJ-",
        "colab_type": "text"
      },
      "cell_type": "markdown",
      "source": [
        "## Expressions booléennes\n",
        "\n",
        "Dans cette séquence, vous allez découvrir :\n",
        "\n",
        "* le type booléen,\n",
        "* les opérateurs de comparaison,\n",
        "* les opérateurs logiques,\n",
        "* l'instruction conditionnelle.\n",
        "\n"
      ]
    },
    {
      "metadata": {
        "id": "GElpxrGkFrou",
        "colab_type": "text"
      },
      "cell_type": "markdown",
      "source": [
        "### Le type booléen\n",
        "\n",
        "Les valeurs de vérité vrai et faux sont représentées respectivement en Python comme en anglais par True et False .\n",
        "\n",
        "Note : La majuscule est indispensable!\n",
        "\n",
        "* Utilisez la console python pour exécuter les instructions suivantes:\n",
        "\n",
        "3 == 4 \"Cet opérateur permet de tester l’égalité de valeur.\"\n",
        "3 != 4 \"Cet opérateur teste la différence.\"\n",
        "!(3 == 4)\n",
        "3 < 4\n",
        "(3 + 4) >= 7\n",
        "( (3 + 4 ) == 7 ) && (3 <= (7 - 4))\n",
        "2 < 3 or 4 >= 10\n",
        "\n",
        "\n"
      ]
    },
    {
      "metadata": {
        "id": "7Fx2vYdBF79Z",
        "colab_type": "code",
        "colab": {}
      },
      "cell_type": "code",
      "source": [
        ""
      ],
      "execution_count": 0,
      "outputs": []
    },
    {
      "metadata": {
        "id": "UTIIqGITGIdU",
        "colab_type": "text"
      },
      "cell_type": "markdown",
      "source": [
        "### Opérateurs de comparaison :\n",
        "\n",
        "< : strictement inferieur à\n",
        "\n",
        "<= : inférieur ou égal à\n",
        "\n",
        "> : strictement supérieur à\n",
        "\n",
        ">= : supérieur ou égal à\n",
        "\n",
        "== : égal à\n",
        "\n",
        "!= : différent de\n",
        "\n",
        "Les comparateurs {<, >, <=, >=, ==, !=} permettent de comparer deux valeurs numériques et renvoient un booléen.\n",
        "\n",
        "Attention :\n",
        "\n",
        "L'égalité s'écrit avec l'opérateur == à deux caractères. L'opérateur simple = est l'affectation ; il ne faut pas les confondre.\n",
        "\n"
      ]
    },
    {
      "metadata": {
        "id": "ykzFhyOsGV7G",
        "colab_type": "code",
        "colab": {}
      },
      "cell_type": "code",
      "source": [
        ""
      ],
      "execution_count": 0,
      "outputs": []
    },
    {
      "metadata": {
        "id": "Sxb6-VX_GW6i",
        "colab_type": "text"
      },
      "cell_type": "markdown",
      "source": [
        "### Opérateurs booléens \n",
        "\n",
        "et (and)\n",
        "ou (or)\n",
        "non (not)\n",
        "Pour le non logique :\n",
        "\n",
        "non faux = vrai,\n",
        "non vrai = faux.\n",
        "Exemple :\n",
        "\n",
        "\"(x%2==0) and (x>2)\" est une expression booléenne.\n",
        "\n"
      ]
    },
    {
      "metadata": {
        "id": "Mkoip-rOGht2",
        "colab_type": "code",
        "colab": {}
      },
      "cell_type": "code",
      "source": [
        ""
      ],
      "execution_count": 0,
      "outputs": []
    },
    {
      "metadata": {
        "id": "S9cYoX0BGd3Q",
        "colab_type": "text"
      },
      "cell_type": "markdown",
      "source": [
        "**Exercice**\n",
        "\n",
        "a. Sachant que les variables a, b et c ont respectivement pour valeur 2, 5 et 7, déterminer si les tests suivants sont vrais ou faux en utilisant les opérateurs booléens et les opérateurs de comparaison correspondants :\n",
        "\n",
        "a égale à b\n",
        "\n",
        "(a + b) différent de c\n",
        "\n",
        "non (a égale à c)\n",
        "\n",
        "((a + b) supérieur ou égal à c) et (a inférieur ou égal à (c − b))\n",
        "\n",
        "((a + c) > b ) ou (( a + c) < b)\n",
        "\n"
      ]
    },
    {
      "metadata": {
        "id": "KTXpPxNdGica",
        "colab_type": "code",
        "colab": {}
      },
      "cell_type": "code",
      "source": [
        ""
      ],
      "execution_count": 0,
      "outputs": []
    },
    {
      "metadata": {
        "id": "Q_vgywRVG4jg",
        "colab_type": "text"
      },
      "cell_type": "markdown",
      "source": [
        "b. Vérifiez si la valeur de la variable trois est strictement supérieure à la valeur de la variable deux.\n"
      ]
    },
    {
      "metadata": {
        "id": "_22IQEAlG35G",
        "colab_type": "code",
        "colab": {}
      },
      "cell_type": "code",
      "source": [
        "# tester si la valeur de la variable trois est strictement supérieure à la valeur de la variable deux.\n",
        "trois = 3\n",
        "deux = 2\n",
        "\n",
        "est_plus_grand = trois operateur deux\n",
        "print(est_plus_grand)"
      ],
      "execution_count": 0,
      "outputs": []
    },
    {
      "metadata": {
        "id": "tYJplb6iG60n",
        "colab_type": "text"
      },
      "cell_type": "markdown",
      "source": [
        "\n",
        "c. Ecrivez une expression booléenne pour vérifier si le nom est égal à \"John\" et qu'il n'a pas 23 ans."
      ]
    },
    {
      "metadata": {
        "id": "DDfuZPwuG8LJ",
        "colab_type": "code",
        "colab": {}
      },
      "cell_type": "code",
      "source": [
        "name = \"John\"\n",
        "age = 17\n",
        "\n",
        "print(expression)"
      ],
      "execution_count": 0,
      "outputs": []
    },
    {
      "metadata": {
        "id": "zbd80DASHed0",
        "colab_type": "text"
      },
      "cell_type": "markdown",
      "source": [
        "# Partie 2"
      ]
    },
    {
      "metadata": {
        "id": "LR3V-yKbHH92",
        "colab_type": "text"
      },
      "cell_type": "markdown",
      "source": [
        "## Conditions\n",
        "\n",
        "Pour exprimer une condition, on a besoin d’une valeur qui soit vraie ou fausse. C’est une expression booléenne.\n",
        "\n",
        "* S’il pleut, je prends mon parapluie.\n",
        "\n",
        "* Si x est pair et que x > 2, alors x n’est pas premier.\n",
        "\n",
        "\"reste de x après division par 2 est 0 et x > 2\"\n",
        "\n",
        "Cette valeur est de type bool :\n",
        "\n",
        "`if (x%2 == 0) and (x > 2):`\n",
        "\n",
        "\"x n'est pas premier ...\"\n",
        "\n",
        "L'instruction if (si) permet de n'exécuter un bloc d'instruction que si une condition (une expression booléenne) s'évalue à vrai.\n",
        "\n",
        "if expr :\n",
        "\n",
        "    # bloc d'instructions\n",
        "\n",
        "    # qui n'est parcouru que\n",
        "\n",
        "    # si \"expr\" est vraie\n",
        "\n",
        "## Suite des instructions\n",
        "\n",
        "TRES IMPORTANT : Il y a une indentation de 4 espaces entre la ligne du if, et la ligne suivante.\n",
        "\n",
        "Syntaxe :\n",
        "\n",
        "1. Instruction conditionnelle :\n",
        "\n",
        "if ( condition 1):\n",
        "\n",
        "    instruction n°1\n",
        "    instruction n°2\n",
        "    ...\n",
        "    \n",
        "2. Instruction conditionnelle avec alternative\n",
        "\n",
        "if ( condition 1):\n",
        "\n",
        "    instruction n°1\n",
        "    instruction n°2\n",
        "    ...\n",
        "else:\n",
        "\n",
        "    instruction n°3\n",
        "    ...\n",
        "    \n",
        "3. Cas multiples\n",
        "\n",
        "if ( condition 1):\n",
        "\n",
        "    instruction n°1\n",
        "    instruction n°2\n",
        "    ...\n",
        "elif ( condition 2):\n",
        "\n",
        "    instruction n°3\n",
        "    instruction n°4\n",
        "    ...\n",
        "else:\n",
        "\n",
        "    instruction n°5\n",
        "    ...\n",
        "    \n",
        "**Remarques**\n",
        "\n",
        "Le début et fin des blocs d'instruction sont délimités par une indentation du bloc (les 4 espaces). Ceci signifie que indenter son code est donc PRIMORDIAL en python.\n",
        "\n",
        "Les deux points ':' sont indispensables après les conditions du if et du else.\n",
        "\n",
        "les parenthèses autour de l'expression sont optionnels.\n",
        "\n"
      ]
    },
    {
      "metadata": {
        "id": "wjmmL3t5IV08",
        "colab_type": "text"
      },
      "cell_type": "markdown",
      "source": [
        "**Exercice**\n",
        "\n",
        "1. Soit a et b deux variables ont respectivement pour valeur 6 et 10. Testez si ces deux variables sont égales, si oui affichez le message \"a égale à b\" sinon affichez le message \" a est différent de b\"\n",
        "\n",
        "2. Ecrivez un programme python qui permet la saisie d’une valeur représentant une réponse au message : print(\"Bonjour, comment ça va? \") , ensuite vérifiez la réponse si l'utilisateur répond \"Bien\" affichez un message \"super!\" par exemple, si la réponse est différente de \"Bien\" affichez un autre message.\n",
        "\n",
        "** Input : Permet la saisie d'une valeur au clavier. On peut invoquer la fonction input() en laissant les parenthèses vides. On peut aussi y placer en argument un message explicatif destiné à l’utilisateur.\n",
        "\n",
        "Exemple:\n",
        "\n",
        "a = input('Entrer la valeur de a : ')\n",
        "\n",
        "3. Écrivez un programme python qui demande à l'étudiant sa note, suite à cette entrée le programme affiche si l'étudiant a eu la moyenne ou non."
      ]
    },
    {
      "metadata": {
        "id": "l11Xe64OImbC",
        "colab_type": "code",
        "colab": {}
      },
      "cell_type": "code",
      "source": [
        "# TODO: type solution here\n",
        "\n",
        "#Exercice\n",
        "\n",
        "#Question 1\n",
        "\n",
        "a = 6\n",
        "b = 10\n",
        "\n",
        "# (n’oubliez pas l'indentation !)\n",
        "\n",
        "test\n",
        "\n",
        "#Question 2\n",
        "\n",
        "rep = lire\n",
        "\n",
        "test\n",
        "\n",
        "#Question 3\n",
        "\n",
        "note = lire_Note\n",
        "\n",
        "test_Note\n"
      ],
      "execution_count": 0,
      "outputs": []
    },
    {
      "metadata": {
        "id": "8qtjoDSUI3K_",
        "colab_type": "text"
      },
      "cell_type": "markdown",
      "source": [
        "**Exercice**\n",
        "\n",
        "place de cinema\n",
        "\n",
        "Rappel\n",
        "\n",
        "* La fonction int(a) : permet la conversion de la variable a en entier\n",
        "* La fonction str(b) : permet la conversion de la variable b en chaine de caractère\n",
        "\n",
        "Ecrivez un programme qui permet la saisie de l'âge de la personne « Quel est votre âge ? ». Si la personne est mineure, le prix d’une place est de 7 euros, si la personne est majeure le prix est de 12 euros.\n",
        "\n",
        "1. Vérifiez l'âge de la personne et affectez la variable prix_total par les valeurs correspondantes.\n",
        "\n",
        "2. Demander à la personne si elle souhaite du pop corn, si oui ajouter 5 euros au prix.\n",
        "\n",
        "3. Afficher le prix total à payer."
      ]
    },
    {
      "metadata": {
        "id": "mpUysg1rJFZw",
        "colab_type": "code",
        "colab": {}
      },
      "cell_type": "code",
      "source": [
        "# TODO: type solution here\n",
        "\n",
        "#Initialisez la variable age et convertissez le résultat de input en entier\n",
        "age = lire la variable age\n",
        "\n",
        "#Ecrivez ici le test en utilisant if\n",
        "\n",
        "Testez age\n",
        "\n",
        "#Demander a la personne si elle souhaite du pop corn\n",
        "\n",
        "pop_corn_demande = Lire la reponse\n",
        "\n",
        "#Testez si la reponse est egale à 'oui' pour ajouter 5 au prix total\n",
        "Test\n",
        "    prix_total operation arithmetique\n",
        "\n",
        "# Afficher le total a payer\n",
        "affichage du prix_total\n"
      ],
      "execution_count": 0,
      "outputs": []
    },
    {
      "metadata": {
        "id": "nzJsigLGJTcZ",
        "colab_type": "text"
      },
      "cell_type": "markdown",
      "source": [
        "# Partie 3\n",
        "\n",
        "## Repetition \n",
        "\n",
        "En programmation, on appelle boucle un système d’instructions qui permet de répéter un certain nombre de fois toute une série d’opérations. Python propose deux instructions particulières pour construire des boucles :\n",
        "\n",
        "1. l’instruction For .. in\n",
        "2. l’instruction While (voir partie 4)\n",
        "\n",
        "### Boucle for \n",
        "\n",
        "**Description** \n",
        "\n",
        "* La commande For... in ... est une instruction itérative qui répète les mêmes instructions plusieurs fois.\n",
        "* En Python, la boucle For se présente typiquement de la manière suivante :\n",
        "\n",
        "**Syntaxe**\n",
        "\n",
        "     for x in ensemble:     \n",
        "         Instruction1     \n",
        "         ...     \n",
        "         Instruction n\n",
        "\n",
        "**Remarques**\n",
        "\n",
        "* L'indentation est le principe selon lequel la disposition du code doit refléter sa structure. L'indentation est donc obligatoire au bon fonctionnement de votre programme.\n",
        "* Si vous utilisez la touche Tab au lieu d'utiliser des espaces pour indenter votre program, alors vous devez toujours utiliser la touche Tab.\n",
        "* Il faut taper deux fois Entrer pour sortir de la boucle.\n",
        "\n",
        "\n",
        "**Exemple** \n",
        "\n",
        "* Afficher 5 fois \"Hello!\"\n",
        "\n",
        "      for x in [1,2,3,4,5]:     print(\"Hello!\")\n",
        "\n",
        "* Affichage après exécution \n",
        "\n",
        "      Hello! Hello! Hello! Hello! Hello!\n",
        "\n",
        "**Commande range()**\n",
        "\n",
        "* la commande range() génère par défaut une séquence de nombres entiers de valeurs croissantes, et différant d’une unité.\n",
        "\n",
        "* La commande range(n) désigne  tous les entiers de 0 à n-1.\n",
        "\n",
        "* On peut aussi utiliser range() avec deux, ou même trois arguments séparés par des virgules, afin de générer des séquences de nombres plus spécifiques : \n",
        "\n",
        "    ` range(start,stop,[step])` où\n",
        "    \n",
        "      * start correspond à l’entier de départ.\n",
        "\n",
        "      * stop à l’entier final.\n",
        "      \n",
        "      * step est optionnel et permet de faire des pas différents de 1. \n",
        "      "
      ]
    },
    {
      "metadata": {
        "id": "xHVSVeyOLW-r",
        "colab_type": "text"
      },
      "cell_type": "markdown",
      "source": [
        "### Exercice 1 \n",
        "\n",
        "Ecrire un programme qui calcule et affiche les cubes de 1 à 10 ( 1, 8, 21, ... ) . Remarque: utiliser l'opérateur ** pour la puissance."
      ]
    },
    {
      "metadata": {
        "id": "2B8vN0swLeLM",
        "colab_type": "code",
        "colab": {}
      },
      "cell_type": "code",
      "source": [
        "# TODO: type solution here\n",
        "\n",
        "#  Ecrire la boucle for et calculer les cubes\n",
        "\n",
        "boucle\n",
        "    #une seule ligne de command; affiche le valeur avec le calcul directement,\n",
        "affiche-valeur"
      ],
      "execution_count": 0,
      "outputs": []
    },
    {
      "metadata": {
        "id": "80owrOPULhGq",
        "colab_type": "text"
      },
      "cell_type": "markdown",
      "source": [
        "### Exercise 2\n",
        "\n",
        "Calculer la moyenne des nombres entre 100 et 250."
      ]
    },
    {
      "metadata": {
        "id": "81tWEdknLlqS",
        "colab_type": "code",
        "colab": {}
      },
      "cell_type": "code",
      "source": [
        "# TODO: type solution here\n",
        "\n",
        "# Initialiser les variables suivantes: start , end et somme\n",
        "\n",
        "Declare les variables\n",
        "\n",
        "#  Ecrire la boucle for et calculer la somme:\n",
        "\n",
        "Calculer  somme\n",
        "\n",
        "# Calculer la moyenne\n",
        "\n",
        "moyenne\n",
        "\n",
        "# Afficher la moyenne\n",
        "\n",
        "Afficher la resultat"
      ],
      "execution_count": 0,
      "outputs": []
    },
    {
      "metadata": {
        "id": "DoqbTzN3LoX1",
        "colab_type": "text"
      },
      "cell_type": "markdown",
      "source": [
        "### Exercice 3\n",
        "\n",
        "Ecrire un programme qui calcule la somme des nombre de la forme $\\displaystyle\\frac{1}{2^n}$ , pour $i$ allant de 0 à 20."
      ]
    },
    {
      "metadata": {
        "id": "_sOyYTK4Lufe",
        "colab_type": "code",
        "colab": {}
      },
      "cell_type": "code",
      "source": [
        "# TODO: type solution here\n",
        "\n",
        "\n",
        "f = 0\n",
        "# Ecrire la boucle de serie\n",
        "Calculer la série des sommes\n"
      ],
      "execution_count": 0,
      "outputs": []
    },
    {
      "metadata": {
        "id": "YNmGvfWMMEFw",
        "colab_type": "text"
      },
      "cell_type": "markdown",
      "source": [
        "### Exercise 4\n",
        "\n",
        "Écrire un programme qui affiche successivement la suite de Fibonacci de 20 :\n",
        "\n",
        "F(0) =0, F(1) = 1\n",
        "\n",
        "F(n) = F (n-2)+ F (n-1) pour n > 1\n",
        "\n",
        "Cela se calcule de manière itérative en utilisant deux variables qui mémorisent les deux derniers termes calculés.\n",
        "\n",
        "**Remarque**\n",
        "\n",
        "1. Déclarer les variables f1 et f2 avec les valeurs 1 et 0 (f1 est F (n-1); f2 est F (n-2)).\n",
        "\n",
        "2. Déclarer une variable fibo avec la valeur 20.\n",
        "\n",
        "3. Itérer de 1 à fibo (utilisez la fonctions range()) pour calculer F (20).\n",
        "\n",
        "4. Afficher la résultat final."
      ]
    },
    {
      "metadata": {
        "id": "pPl1zQ9sMOB_",
        "colab_type": "code",
        "colab": {}
      },
      "cell_type": "code",
      "source": [
        "# TODO: type solution here\n",
        "\n",
        "#Declare les variable f1,f2\n",
        "etape1: Initialiser les variables f2, f1\n",
        "# Declare variable fibo\n",
        "etape2: Initialiser fibo\n",
        "# etape3: Ecrire la boucle\n",
        "etape3: boucle for\n",
        "\n",
        "#etape4: afficher la resultat\n",
        "etape4: afficher la resultat"
      ],
      "execution_count": 0,
      "outputs": []
    },
    {
      "metadata": {
        "id": "xpVxsTE1MSTp",
        "colab_type": "text"
      },
      "cell_type": "markdown",
      "source": [
        "## Boucle For imbriquée\n",
        "\n",
        "**Description**\n",
        "\n",
        "Boucle complètement inclue dans une autre, de sorte que cette dernière ne peut poursuivre son itération qu’après la sortie de la première.\n",
        "\n",
        "**Syntaxe**\n",
        "\n",
        "    for x in ensemble:\n",
        "\n",
        "         for y in ensemble:\n",
        "\n",
        "            Instruction1\n",
        "\n",
        "            Instruction2\n",
        "\n",
        "**Example**\n",
        "\n",
        "Ecrire des boucles imbriquées pour imprimer un rectangle de 3 columns et 2 ligns .\n",
        "\n",
        "\n",
        "\n",
        "```\n",
        "num_cols = 3\n",
        "num_lign = 2\n",
        "for i in range(num_lign):\n",
        "  print('*', end=' ')\n",
        "  for j in range(num_cols-1):\n",
        "    i*=j\n",
        "    print('*', end=' ')\n",
        "  print('')\n",
        "```\n",
        "\n",
        "\n",
        "Affichage après exécution :\n",
        "\n",
        "```\n",
        "* * *\n",
        "* * *\n",
        "```\n",
        "\n"
      ]
    },
    {
      "metadata": {
        "id": "tiG-F5uNNHYW",
        "colab_type": "code",
        "colab": {
          "base_uri": "https://localhost:8080/",
          "height": 52
        },
        "outputId": "5c785e30-063c-4a7b-dbe5-abd5ccb0d678"
      },
      "cell_type": "code",
      "source": [
        "num_cols = 3\n",
        "num_lign = 2\n",
        "for i in range(num_lign):\n",
        "  print('*', end=' ')\n",
        "  for j in range(num_cols-1):\n",
        "    i*=j\n",
        "    print('*', end=' ')\n",
        "  print('')"
      ],
      "execution_count": 9,
      "outputs": [
        {
          "output_type": "stream",
          "text": [
            "* * * \n",
            "* * * \n"
          ],
          "name": "stdout"
        }
      ]
    },
    {
      "metadata": {
        "id": "-5Zroti2OYjP",
        "colab_type": "text"
      },
      "cell_type": "markdown",
      "source": [
        "### Exercise 5\n",
        "\n",
        "Écrivez un programme qui affiche à l'écran une pyramide remplie d'étoiles, sur le modèle ci-dessous. La dernière ligne contient 10 étoiles\n",
        "\n",
        "Remarque  : Il faut utiliser une boucle imbriquée.\n",
        "\n",
        "\n",
        "```\n",
        "*\n",
        "* *\n",
        "* * *\n",
        "* * * * \n",
        "* * * * *\n",
        "* * * * * *\n",
        "* * * * * * *\n",
        "* * * * * * * *\n",
        "* * * * * * * * *\n",
        "* * * * * * * * * *\n",
        "```\n",
        "\n",
        "\n"
      ]
    },
    {
      "metadata": {
        "id": "of-5MnfpOj7S",
        "colab_type": "code",
        "colab": {}
      },
      "cell_type": "code",
      "source": [
        "#Ecrire les deux boucles for\n",
        "boucle1\n",
        "    boucle2\n",
        "        affichage\n",
        "    print()\n",
        "\n",
        "\n",
        "\n"
      ],
      "execution_count": 0,
      "outputs": []
    },
    {
      "metadata": {
        "id": "XxI7BTxYOqvq",
        "colab_type": "text"
      },
      "cell_type": "markdown",
      "source": [
        "### Exercice 6 \n",
        "Ecrire un programme qui affiche tous les nombres premiers entre 20 et 60. \n",
        "\n",
        "Remarque: Un nombre premier est un nombre naturel divisible par exactement deux nombres distincts, donc par 1 et lui même."
      ]
    },
    {
      "metadata": {
        "id": "kdNSs4eGOw_c",
        "colab_type": "code",
        "colab": {}
      },
      "cell_type": "code",
      "source": [
        "# TODO: type solution here\n",
        "\n",
        "# Initialiser les variables start et end :\n",
        "\n",
        "Initialiser start et end\n",
        "#Ecrire la premiere iteration\n",
        "premiere iteration\n",
        "    # is_prime ne peut prendre que deux valeurs: True et False\n",
        "    is_prime = True\n",
        "#Ecrire  2eme boucle et instruction conditionnelle\n",
        "    loop et  test\n",
        "#Utiliser  la valeur booleenne is_prime et afficher la resultat final,\n",
        "affiche les nombres premiers\n"
      ],
      "execution_count": 0,
      "outputs": []
    },
    {
      "metadata": {
        "id": "VIGCDs57O04o",
        "colab_type": "text"
      },
      "cell_type": "markdown",
      "source": [
        "# Partie 4\n",
        "\n",
        "## Boucle While\n",
        "\n",
        "Tant que (while en anglais) est une expression qui permet d’exécuter un bloc d'instructions en boucle tant qu’une condition est vraie. Elle sert donc, comme le For, à répéter des instructions. Mais, à la différence du For, on a pas besoin de savoir à l'avance le nombre de fois qu'il faudra les répéter.\n",
        "\n",
        "**Syntaxe** \n",
        "\n",
        "    while condition :\n",
        "        instruction n°1\n",
        "        instruction n°2\n",
        "        …\n",
        "        \n",
        "L'interpréteur commence par L'évaluation de la condition. Si la condition est vraie, on exécute la séquence et on recommence en première ligne où il y a ‘while’. Si la condition est fausse, on sort de la boucle et on exécute la suite du programme. par exemple\n",
        "\n",
        "        n=1\n",
        "        while  i < 5:\n",
        "            n = n + 1\n",
        "            print(n)\n",
        "        print(\"fin\")\n",
        "        \n",
        "L'exécution donne :\n",
        "\n",
        "        `2 3 4 5 fin`\n",
        "        \n",
        "Lorsque on utilise ‘while’, il faut s’assurer que le programme ne restera pas prisonnier d'une boucle infinie. Cette garantie peut se faire en s’assurant que la condition va finir par être fausse. Exemple de boucle infinie:\n",
        "\n",
        "     n = 10\n",
        "     while n >= 0:\n",
        "         print(n)\n",
        "         n = n + 1\n",
        "     print(fin)\n",
        "     \n",
        "L'exécution donne :\n",
        "\n",
        "        10 11 12 13 14 15 …1150 1151 ………...#\"fin\" ne s'affiche jamais\n",
        "        \n",
        "pour que ce programme s'arrête par il faut changer soit la condition du while en mettant par exemple (n<=10), soit on modifie la dernière instruction en mettant par exemple (n=n-1)\n"
      ]
    },
    {
      "metadata": {
        "id": "HGTDGBgKPa_h",
        "colab_type": "text"
      },
      "cell_type": "markdown",
      "source": [
        "### Exercice 1\n",
        "\n",
        "Écrire un programme qui demande un nombre à l'utilisateur, puis affiche les nombres allant de 1 jusqu’à ce nombre."
      ]
    },
    {
      "metadata": {
        "id": "3qgN3UXcPfxa",
        "colab_type": "code",
        "colab": {}
      },
      "cell_type": "code",
      "source": [
        "# Q1\n",
        "\n",
        "type here\n",
        "\n",
        "type here\n",
        "\n",
        "while Trouver la bonne condition à utiliser pour répondre à la question:\n",
        "utilisez la bonne commande pour l'affichage\n"
      ],
      "execution_count": 0,
      "outputs": []
    },
    {
      "metadata": {
        "id": "5_OHk4ebPpW8",
        "colab_type": "text"
      },
      "cell_type": "markdown",
      "source": [
        "### Exercice 2\n",
        "\n",
        "Écrivez un programme qui fait la somme des nombres entiers entrés par l’utilisateur tant que ce dernier veut continuer.\n",
        "\n",
        "Indice : utilisez un nombre négatif comme -1 pour savoir si l’utilisateur veut s'arrêter ou non"
      ]
    },
    {
      "metadata": {
        "id": "mwPcbtnTP060",
        "colab_type": "code",
        "colab": {}
      },
      "cell_type": "code",
      "source": [
        "# somme des nombres entiers entrés par l’utilisateur\n",
        "\n",
        "Demander à l'utilisateur jusqu'où sommer.\n",
        "\n",
        "Initaliser votre somme\n",
        "\n",
        "while Condition pour continuer à sommer:\n",
        "    Accumuler dans la somme\n",
        "Demander le nombre suivant\n",
        "\n",
        "Afficher la somme"
      ],
      "execution_count": 0,
      "outputs": []
    },
    {
      "metadata": {
        "id": "RmLUlSKxPiRB",
        "colab_type": "text"
      },
      "cell_type": "markdown",
      "source": [
        "**OPTIONNEL**\n",
        "\n",
        "* Les boucles peuvent contenir des conditions d'arrêt, on peut par exemple avoir une condition d’arrêt qui dépend d’une valeur entrée. Pour sortir d’une boucle une fois la condition d'arrêt est satisfaite on utilise l’instruction ‘`break`’.\n",
        "Q2bis. \n",
        "\n",
        "Refaire la Exercice 2 en utilisant un `break`.\n",
        "\n",
        "* On peut aussi utiliser des `else` avec la boucle `while`. Si la condition de la boucle n’est pas satisfaite on passe directement au deuxième bloc d’instruction\n",
        "\n",
        "Exemple :\n",
        "\n",
        "```\n",
        "somme = 0\n",
        " while  somme < 3:\n",
        "    print (somme, \" est inférieur à 3\")\n",
        "    somme = somme + 1\n",
        " else:\n",
        "    print (somme, \" n’est pas inférieur à 3\")\n",
        "```\n",
        "L'exécution donne :\n",
        "\n",
        "\n",
        "\n",
        "```\n",
        "0 est inférieur à 3\n",
        "1 est inférieur à 3\n",
        "2 est inférieur à 3\n",
        "3 n’est pas inférieur à 3\n",
        "```\n",
        "\n",
        "\n"
      ]
    },
    {
      "metadata": {
        "id": "imlt0siNQW51",
        "colab_type": "code",
        "colab": {}
      },
      "cell_type": "code",
      "source": [
        "# ----------Avec break-------------#\n",
        "\n",
        "Refaire Ex2 avec un break"
      ],
      "execution_count": 0,
      "outputs": []
    },
    {
      "metadata": {
        "id": "sB90czyfQcaM",
        "colab_type": "text"
      },
      "cell_type": "markdown",
      "source": [
        "### Exercice 3\n",
        "\n",
        "Écrivez un programme qui demande à l'utilisateur de :\n",
        "\n",
        "* calculer la suite des $i^3$ tant que le résultat de ce calcul est inférieur à $(1000i^2+500i+7)$,\n",
        "\n",
        "* en déduire la partie entière de la solution de l'équation : $-i^3+1000i^2+500i+7=0$."
      ]
    },
    {
      "metadata": {
        "id": "RWOawPRFQ0u1",
        "colab_type": "code",
        "colab": {}
      },
      "cell_type": "code",
      "source": [
        "# Q3 Calculez les cubes d'un nombre jusqu'à ce qu'ils dépassent une fonction quadratique.\n",
        "\n",
        "#Initialisation de i\n",
        "type here\n",
        "\n",
        "#Boucle d'affichage\n",
        "while Donner la condition:\n",
        "    Affichez les cubes\n",
        "Incrémenter i\n",
        "\n",
        "#Afficher la solution de l'équation\n",
        "type here\n"
      ],
      "execution_count": 0,
      "outputs": []
    }
  ]
}